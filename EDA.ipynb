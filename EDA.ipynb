{
 "cells": [
  {
   "cell_type": "markdown",
   "metadata": {},
   "source": [
    "# Spotify Playlist Prediction\n",
    "**Kevin Yoon, Madeleine Nakada, Michelle Xie**"
   ]
  },
  {
   "cell_type": "code",
   "execution_count": 2,
   "metadata": {},
   "outputs": [],
   "source": [
    "import pandas as pd\n",
    "import json\n",
    "import random\n",
    "from sklearn.model_selection import train_test_split"
   ]
  },
  {
   "cell_type": "code",
   "execution_count": 3,
   "metadata": {},
   "outputs": [],
   "source": [
    "from spotify import get_features"
   ]
  },
  {
   "cell_type": "code",
   "execution_count": 4,
   "metadata": {},
   "outputs": [],
   "source": [
    "# add some code here to randomize selection"
   ]
  },
  {
   "cell_type": "code",
   "execution_count": 5,
   "metadata": {},
   "outputs": [
    {
     "data": {
      "text/plain": [
       "(1000, 12)"
      ]
     },
     "execution_count": 5,
     "metadata": {},
     "output_type": "execute_result"
    }
   ],
   "source": [
    "path = './mpd.slice.0-999.json'\n",
    "\n",
    "with open(path) as infile:\n",
    "    data = json.load(infile)\n",
    "playlists = pd.DataFrame(data['playlists'])\n",
    "playlists.set_index(\"pid\")\n",
    "playlists.shape\n",
    "# print(data.keys())\n",
    "# print(len(data['playlists']))\n",
    "# print(data['playlists'][0])\n",
    "# pd.DataFrame.from_dict(data)\n",
    "# print(data)\n",
    "# data = json.loads('./data/mpd.slice.0-999.json')"
   ]
  },
  {
   "cell_type": "code",
   "execution_count": 31,
   "metadata": {},
   "outputs": [],
   "source": [
    "train_data, test_data = train_test_split(playlists, test_size=0.2, random_state=42)"
   ]
  },
  {
   "cell_type": "code",
   "execution_count": 42,
   "metadata": {},
   "outputs": [
    {
     "data": {
      "text/plain": [
       "((800, 12), (200, 12))"
      ]
     },
     "execution_count": 42,
     "metadata": {},
     "output_type": "execute_result"
    }
   ],
   "source": [
    "train_data.shape, test_data.shape"
   ]
  },
  {
   "cell_type": "code",
   "execution_count": 37,
   "metadata": {},
   "outputs": [
    {
     "data": {
      "text/html": [
       "<div>\n",
       "<style scoped>\n",
       "    .dataframe tbody tr th:only-of-type {\n",
       "        vertical-align: middle;\n",
       "    }\n",
       "\n",
       "    .dataframe tbody tr th {\n",
       "        vertical-align: top;\n",
       "    }\n",
       "\n",
       "    .dataframe thead th {\n",
       "        text-align: right;\n",
       "    }\n",
       "</style>\n",
       "<table border=\"1\" class=\"dataframe\">\n",
       "  <thead>\n",
       "    <tr style=\"text-align: right;\">\n",
       "      <th></th>\n",
       "      <th>collaborative</th>\n",
       "      <th>description</th>\n",
       "      <th>duration_ms</th>\n",
       "      <th>modified_at</th>\n",
       "      <th>name</th>\n",
       "      <th>num_albums</th>\n",
       "      <th>num_artists</th>\n",
       "      <th>num_edits</th>\n",
       "      <th>num_followers</th>\n",
       "      <th>num_tracks</th>\n",
       "      <th>pid</th>\n",
       "      <th>tracks</th>\n",
       "    </tr>\n",
       "  </thead>\n",
       "  <tbody>\n",
       "    <tr>\n",
       "      <th>29</th>\n",
       "      <td>false</td>\n",
       "      <td>NaN</td>\n",
       "      <td>8059613</td>\n",
       "      <td>1506384000</td>\n",
       "      <td>groovy</td>\n",
       "      <td>39</td>\n",
       "      <td>39</td>\n",
       "      <td>16</td>\n",
       "      <td>1</td>\n",
       "      <td>40</td>\n",
       "      <td>29</td>\n",
       "      <td>[{'pos': 0, 'artist_name': 'Lauv', 'track_uri'...</td>\n",
       "    </tr>\n",
       "    <tr>\n",
       "      <th>535</th>\n",
       "      <td>false</td>\n",
       "      <td>NaN</td>\n",
       "      <td>12714068</td>\n",
       "      <td>1359244800</td>\n",
       "      <td>halcyon</td>\n",
       "      <td>11</td>\n",
       "      <td>3</td>\n",
       "      <td>5</td>\n",
       "      <td>4</td>\n",
       "      <td>46</td>\n",
       "      <td>535</td>\n",
       "      <td>[{'pos': 0, 'artist_name': 'Ellie Goulding', '...</td>\n",
       "    </tr>\n",
       "    <tr>\n",
       "      <th>695</th>\n",
       "      <td>false</td>\n",
       "      <td>NaN</td>\n",
       "      <td>4444821</td>\n",
       "      <td>1415577600</td>\n",
       "      <td>three</td>\n",
       "      <td>17</td>\n",
       "      <td>19</td>\n",
       "      <td>4</td>\n",
       "      <td>1</td>\n",
       "      <td>20</td>\n",
       "      <td>695</td>\n",
       "      <td>[{'pos': 0, 'artist_name': 'Chorus - Hercules'...</td>\n",
       "    </tr>\n",
       "    <tr>\n",
       "      <th>557</th>\n",
       "      <td>false</td>\n",
       "      <td>NaN</td>\n",
       "      <td>16177296</td>\n",
       "      <td>1508803200</td>\n",
       "      <td>Work</td>\n",
       "      <td>68</td>\n",
       "      <td>59</td>\n",
       "      <td>14</td>\n",
       "      <td>1</td>\n",
       "      <td>70</td>\n",
       "      <td>557</td>\n",
       "      <td>[{'pos': 0, 'artist_name': 'Lil Wyte', 'track_...</td>\n",
       "    </tr>\n",
       "    <tr>\n",
       "      <th>836</th>\n",
       "      <td>false</td>\n",
       "      <td>NaN</td>\n",
       "      <td>3999213</td>\n",
       "      <td>1506470400</td>\n",
       "      <td>boujee</td>\n",
       "      <td>17</td>\n",
       "      <td>16</td>\n",
       "      <td>2</td>\n",
       "      <td>1</td>\n",
       "      <td>19</td>\n",
       "      <td>836</td>\n",
       "      <td>[{'pos': 0, 'artist_name': 'A$AP Ferg', 'track...</td>\n",
       "    </tr>\n",
       "  </tbody>\n",
       "</table>\n",
       "</div>"
      ],
      "text/plain": [
       "    collaborative description  duration_ms  modified_at     name  num_albums  \\\n",
       "29          false         NaN      8059613   1506384000   groovy          39   \n",
       "535         false         NaN     12714068   1359244800  halcyon          11   \n",
       "695         false         NaN      4444821   1415577600    three          17   \n",
       "557         false         NaN     16177296   1508803200     Work          68   \n",
       "836         false         NaN      3999213   1506470400   boujee          17   \n",
       "\n",
       "     num_artists  num_edits  num_followers  num_tracks  pid  \\\n",
       "29            39         16              1          40   29   \n",
       "535            3          5              4          46  535   \n",
       "695           19          4              1          20  695   \n",
       "557           59         14              1          70  557   \n",
       "836           16          2              1          19  836   \n",
       "\n",
       "                                                tracks  \n",
       "29   [{'pos': 0, 'artist_name': 'Lauv', 'track_uri'...  \n",
       "535  [{'pos': 0, 'artist_name': 'Ellie Goulding', '...  \n",
       "695  [{'pos': 0, 'artist_name': 'Chorus - Hercules'...  \n",
       "557  [{'pos': 0, 'artist_name': 'Lil Wyte', 'track_...  \n",
       "836  [{'pos': 0, 'artist_name': 'A$AP Ferg', 'track...  "
      ]
     },
     "execution_count": 37,
     "metadata": {},
     "output_type": "execute_result"
    }
   ],
   "source": [
    "train_data.head()"
   ]
  },
  {
   "cell_type": "code",
   "execution_count": 53,
   "metadata": {},
   "outputs": [
    {
     "name": "stdout",
     "output_type": "stream",
     "text": [
      "[{'pos': 0, 'artist_name': 'Missy Elliott', 'track_uri': 'spotify:track:0UaMYEvWZi0ZqiDOoHU3YI', 'artist_uri': 'spotify:artist:2wIVse2owClT7go1WT98tk', 'track_name': 'Lose Control (feat. Ciara & Fat Man Scoop)', 'album_uri': 'spotify:album:6vV5UrXcfyQD1wu4Qo2I9K', 'duration_ms': 226863, 'album_name': 'The Cookbook'}, {'pos': 1, 'artist_name': 'Britney Spears', 'track_uri': 'spotify:track:6I9VzXrHxO9rA9A5euc8Ak', 'artist_uri': 'spotify:artist:26dSoYclwsYLMAKD3tpOr4', 'track_name': 'Toxic', 'album_uri': 'spotify:album:0z7pVBGOD7HCIB7S8eLkLI', 'duration_ms': 198800, 'album_name': 'In The Zone'}, {'pos': 2, 'artist_name': 'Beyoncé', 'track_uri': 'spotify:track:0WqIKmW4BTrj3eJFmnCKMv', 'artist_uri': 'spotify:artist:6vWDO969PvNqNYHIOW5v0m', 'track_name': 'Crazy In Love', 'album_uri': 'spotify:album:25hVFAxTlDvXbx2X2QkUkE', 'duration_ms': 235933, 'album_name': 'Dangerously In Love (Alben für die Ewigkeit)'}, {'pos': 3, 'artist_name': 'Justin Timberlake', 'track_uri': 'spotify:track:1AWQoqb9bSvzTjaLralEkT', 'artist_uri': 'spotify:artist:31TPClRtHm23RisEBtV3X7', 'track_name': 'Rock Your Body', 'album_uri': 'spotify:album:6QPkyl04rXwTGlGlcYaRoW', 'duration_ms': 267266, 'album_name': 'Justified'}, {'pos': 4, 'artist_name': 'Shaggy', 'track_uri': 'spotify:track:1lzr43nnXAijIGYnCT8M8H', 'artist_uri': 'spotify:artist:5EvFsr3kj42KNv97ZEnqij', 'track_name': \"It Wasn't Me\", 'album_uri': 'spotify:album:6NmFmPX56pcLBOFMhIiKvF', 'duration_ms': 227600, 'album_name': 'Hot Shot'}, {'pos': 5, 'artist_name': 'Usher', 'track_uri': 'spotify:track:0XUfyU2QviPAs6bxSpXYG4', 'artist_uri': 'spotify:artist:23zg3TcAtWQy7J6upgbUnj', 'track_name': 'Yeah!', 'album_uri': 'spotify:album:0vO0b1AvY49CPQyVisJLj0', 'duration_ms': 250373, 'album_name': 'Confessions'}, {'pos': 6, 'artist_name': 'Usher', 'track_uri': 'spotify:track:68vgtRHr7iZHpzGpon6Jlo', 'artist_uri': 'spotify:artist:23zg3TcAtWQy7J6upgbUnj', 'track_name': 'My Boo', 'album_uri': 'spotify:album:1RM6MGv6bcl6NrAG8PGoZk', 'duration_ms': 223440, 'album_name': 'Confessions'}, {'pos': 7, 'artist_name': 'The Pussycat Dolls', 'track_uri': 'spotify:track:3BxWKCI06eQ5Od8TY2JBeA', 'artist_uri': 'spotify:artist:6wPhSqRtPu1UhRCDX5yaDJ', 'track_name': 'Buttons', 'album_uri': 'spotify:album:5x8e8UcCeOgrOzSnDGuPye', 'duration_ms': 225560, 'album_name': 'PCD'}, {'pos': 8, 'artist_name': \"Destiny's Child\", 'track_uri': 'spotify:track:7H6ev70Weq6DdpZyyTmUXk', 'artist_uri': 'spotify:artist:1Y8cdNmUJH7yBTd9yOvr5i', 'track_name': 'Say My Name', 'album_uri': 'spotify:album:283NWqNsCA9GwVHrJk59CG', 'duration_ms': 271333, 'album_name': \"The Writing's On The Wall\"}, {'pos': 9, 'artist_name': 'OutKast', 'track_uri': 'spotify:track:2PpruBYCo4H7WOBJ7Q2EwM', 'artist_uri': 'spotify:artist:1G9G7WwrXka3Z1r7aIDjI7', 'track_name': 'Hey Ya! - Radio Mix / Club Mix', 'album_uri': 'spotify:album:1UsmQ3bpJTyK6ygoOOjG1r', 'duration_ms': 235213, 'album_name': 'Speakerboxxx/The Love Below'}, {'pos': 10, 'artist_name': 'Nelly Furtado', 'track_uri': 'spotify:track:2gam98EZKrF9XuOkU13ApN', 'artist_uri': 'spotify:artist:2jw70GZXlAI8QzWeY2bgRc', 'track_name': 'Promiscuous', 'album_uri': 'spotify:album:2yboV2QBcVGEhcRlYuPpDT', 'duration_ms': 242293, 'album_name': 'Loose'}, {'pos': 11, 'artist_name': 'Jesse McCartney', 'track_uri': 'spotify:track:4Y45aqo9QMa57rDsAJv40A', 'artist_uri': 'spotify:artist:2Hjj68yyUPiC0HKEOigcEp', 'track_name': 'Right Where You Want Me - Radio Edit Version', 'album_uri': 'spotify:album:6022khQj4Fsvvse8f3A4lF', 'duration_ms': 211693, 'album_name': 'Right Where You Want Me'}, {'pos': 12, 'artist_name': 'Jesse McCartney', 'track_uri': 'spotify:track:1HwpWwa6bnqqRhK8agG4RS', 'artist_uri': 'spotify:artist:2Hjj68yyUPiC0HKEOigcEp', 'track_name': 'Beautiful Soul', 'album_uri': 'spotify:album:2gidE8vgVOkYufANjuvj3S', 'duration_ms': 214226, 'album_name': 'Beautiful Soul'}, {'pos': 13, 'artist_name': 'Jesse McCartney', 'track_uri': 'spotify:track:20ORwCJusz4KS2PbTPVNKo', 'artist_uri': 'spotify:artist:2Hjj68yyUPiC0HKEOigcEp', 'track_name': \"Leavin'\", 'album_uri': 'spotify:album:2tDCfKFy2YW9N0IwNSRdOJ', 'duration_ms': 216880, 'album_name': 'Departure - Recharged'}, {'pos': 14, 'artist_name': 'Cassie', 'track_uri': 'spotify:track:7k6IzwMGpxnRghE7YosnXT', 'artist_uri': 'spotify:artist:27FGXRNruFoOdf1vP8dqcH', 'track_name': 'Me & U', 'album_uri': 'spotify:album:0j1qzjaJmsF1FkcICf3hRu', 'duration_ms': 192213, 'album_name': 'Cassie'}, {'pos': 15, 'artist_name': 'Omarion', 'track_uri': 'spotify:track:1Bv0Yl01xBDZD4OQP93fyl', 'artist_uri': 'spotify:artist:0f5nVCcR06GX8Qikz0COtT', 'track_name': 'Ice Box', 'album_uri': 'spotify:album:4cVVEOXyUaWo7vlDWIkKsI', 'duration_ms': 256426, 'album_name': '21'}, {'pos': 16, 'artist_name': 'Avril Lavigne', 'track_uri': 'spotify:track:4omisSlTk6Dsq2iQD7MA07', 'artist_uri': 'spotify:artist:0p4nmQO2msCgU4IF37Wi3j', 'track_name': 'Sk8er Boi', 'album_uri': 'spotify:album:7h6XeTzy0SRXDrFJeA9gO7', 'duration_ms': 204000, 'album_name': 'Let Go'}, {'pos': 17, 'artist_name': 'Chris Brown', 'track_uri': 'spotify:track:7xYnUQigPoIDAMPVK79NEq', 'artist_uri': 'spotify:artist:7bXgB6jMjp9ATFy66eO08Z', 'track_name': 'Run It!', 'album_uri': 'spotify:album:49gaz5rhWWgqCw61M9700v', 'duration_ms': 229866, 'album_name': 'Chris Brown'}, {'pos': 18, 'artist_name': 'Beyoncé', 'track_uri': 'spotify:track:6d8A5sAx9TfdeseDvfWNHd', 'artist_uri': 'spotify:artist:6vWDO969PvNqNYHIOW5v0m', 'track_name': 'Check On It - feat. Bun B and Slim Thug', 'album_uri': 'spotify:album:3MJHoQUI828kmB6IpjejbW', 'duration_ms': 210453, 'album_name': \"B'Day\"}, {'pos': 19, 'artist_name': \"Destiny's Child\", 'track_uri': 'spotify:track:4pmc2AxSEq6g7hPVlJCPyP', 'artist_uri': 'spotify:artist:1Y8cdNmUJH7yBTd9yOvr5i', 'track_name': \"Jumpin', Jumpin'\", 'album_uri': 'spotify:album:283NWqNsCA9GwVHrJk59CG', 'duration_ms': 230200, 'album_name': \"The Writing's On The Wall\"}, {'pos': 20, 'artist_name': 'Sheryl Crow', 'track_uri': 'spotify:track:215JYyyUnrJ98NK3KEwu6d', 'artist_uri': 'spotify:artist:4TKTii6gnOnUXQHyuo9JaD', 'track_name': 'Soak Up The Sun', 'album_uri': 'spotify:album:5NYcTXrRZHxNyRKVOd0vs1', 'duration_ms': 292306, 'album_name': \"C'Mon C'Mon\"}, {'pos': 21, 'artist_name': 'The Black Eyed Peas', 'track_uri': 'spotify:track:0uqPG793dkDDN7sCUJJIVC', 'artist_uri': 'spotify:artist:1yxSLGMDHlW21z4YXirZDS', 'track_name': 'Where Is The Love?', 'album_uri': 'spotify:album:1bNyYpkDRovmErm4QeDrpJ', 'duration_ms': 272533, 'album_name': 'Elephunk'}, {'pos': 22, 'artist_name': 'Bowling For Soup', 'track_uri': 'spotify:track:19Js5ypV6JKn4DMExHQbGc', 'artist_uri': 'spotify:artist:5ND0mGcL9SKSjWIjPd0xIb', 'track_name': \"Stacy's Mom\", 'album_uri': 'spotify:album:3Q7xpHmP8k3HryE0LQdIk0', 'duration_ms': 193042, 'album_name': \"I've Never Done Anything Like This\"}, {'pos': 23, 'artist_name': 'The Click Five', 'track_uri': 'spotify:track:1JURww012QnWAw0zZXi6Aa', 'artist_uri': 'spotify:artist:01lz5VBfkMFDteSA9pKJuP', 'track_name': 'Just The Girl', 'album_uri': 'spotify:album:7gZilZGYr8M7UwEeYvdAKZ', 'duration_ms': 234146, 'album_name': 'Greetings From Imrie House'}, {'pos': 24, 'artist_name': 'Chris Brown', 'track_uri': 'spotify:track:7DFnq8FYhHMCylykf6ZCxA', 'artist_uri': 'spotify:artist:7bXgB6jMjp9ATFy66eO08Z', 'track_name': 'Yo (Excuse Me Miss)', 'album_uri': 'spotify:album:49gaz5rhWWgqCw61M9700v', 'duration_ms': 229040, 'album_name': 'Chris Brown'}, {'pos': 25, 'artist_name': 'Jonas Brothers', 'track_uri': 'spotify:track:1TfAhjzRBWzYZ8IdUV3igl', 'artist_uri': 'spotify:artist:7gOdHgIoIKoe4i9Tta6qdD', 'track_name': 'Year 3000', 'album_uri': 'spotify:album:20RAjvZ9LX2FDuDU8RDuIl', 'duration_ms': 201960, 'album_name': 'Jonas Brothers'}, {'pos': 26, 'artist_name': 'Lil Mama', 'track_uri': 'spotify:track:1Y4ZdPOOgCUhBcKZOrUFiS', 'artist_uri': 'spotify:artist:5qK5bOC6wLtuLhG5KvU17c', 'track_name': 'Lip Gloss', 'album_uri': 'spotify:album:3vgVsm9GY3i39fZ7b1sqV5', 'duration_ms': 219773, 'album_name': 'Lip Gloss'}, {'pos': 27, 'artist_name': 'Cascada', 'track_uri': 'spotify:track:6MjljecHzHelUDismyKkba', 'artist_uri': 'spotify:artist:0N0d3kjwdY2h7UVuTdJGfp', 'track_name': 'Everytime We Touch - Radio Edit', 'album_uri': 'spotify:album:5DvuKZTzEKjm0oUuhP237C', 'duration_ms': 199120, 'album_name': 'Everytime We Touch'}, {'pos': 28, 'artist_name': 'Jason Derulo', 'track_uri': 'spotify:track:67T6l4q3zVjC5nZZPXByU8', 'artist_uri': 'spotify:artist:07YZf4WDAMNwqr4jfgOZ8y', 'track_name': 'Whatcha Say', 'album_uri': 'spotify:album:0aVJmVAeEx78nAA1rAKYf7', 'duration_ms': 221253, 'album_name': 'Jason Derulo'}, {'pos': 29, 'artist_name': 'Ne-Yo', 'track_uri': 'spotify:track:34ceTg8ChN5HjrqiIYCn9Q', 'artist_uri': 'spotify:artist:21E3waRsmPlU7jZsS13rcj', 'track_name': 'Miss Independent', 'album_uri': 'spotify:album:6dTn9vJSxVTIGm4Cu5dH4x', 'duration_ms': 232000, 'album_name': 'Year Of The Gentleman'}, {'pos': 30, 'artist_name': 'Miley Cyrus', 'track_uri': 'spotify:track:5Q0Nhxo0l2bP3pNjpGJwV1', 'artist_uri': 'spotify:artist:5YGY8feqx7naU7z4HrwZM6', 'track_name': 'Party In The U.S.A.', 'album_uri': 'spotify:album:64aKkqxc3Ur2LYIKeS5osS', 'duration_ms': 202066, 'album_name': 'The Time Of Our Lives'}, {'pos': 31, 'artist_name': 'Boys Like Girls', 'track_uri': 'spotify:track:6GIrIt2M39wEGwjCQjGChX', 'artist_uri': 'spotify:artist:0vWCyXMrrvMlCcepuOJaGI', 'track_name': 'The Great Escape', 'album_uri': 'spotify:album:4WqgusSAgXkrjbXzqdBY68', 'duration_ms': 206520, 'album_name': 'Boys Like Girls'}, {'pos': 32, 'artist_name': 'Iyaz', 'track_uri': 'spotify:track:4E5P1XyAFtrjpiIxkydly4', 'artist_uri': 'spotify:artist:5tKXB9uuebKE34yowVaU3C', 'track_name': 'Replay', 'album_uri': 'spotify:album:44hyrGuZKAvITbmrlhryf8', 'duration_ms': 182306, 'album_name': 'Replay'}, {'pos': 33, 'artist_name': 'Chris Brown', 'track_uri': 'spotify:track:3H1LCvO3fVsK2HPguhbml0', 'artist_uri': 'spotify:artist:7bXgB6jMjp9ATFy66eO08Z', 'track_name': 'Forever', 'album_uri': 'spotify:album:1UtE4zAlSE2TlKmTFgrTg5', 'duration_ms': 277106, 'album_name': 'Exclusive - The Forever Edition'}, {'pos': 34, 'artist_name': 'Kesha', 'track_uri': 'spotify:track:3uoQULcUWfnt6nc6J7Vgai', 'artist_uri': 'spotify:artist:6LqNN22kT3074XbTVUrhzX', 'track_name': 'Your Love Is My Drug', 'album_uri': 'spotify:album:5peRwC6pQh8eaoIPtvmmOB', 'duration_ms': 187133, 'album_name': 'Animal'}, {'pos': 35, 'artist_name': 'Ne-Yo', 'track_uri': 'spotify:track:2nbClS09zsIAqNkshg6jnp', 'artist_uri': 'spotify:artist:21E3waRsmPlU7jZsS13rcj', 'track_name': 'Closer', 'album_uri': 'spotify:album:1nv3KEXZPmcwOXMoLTs1vn', 'duration_ms': 234360, 'album_name': 'Year Of The Gentleman'}, {'pos': 36, 'artist_name': 'Justin Bieber', 'track_uri': 'spotify:track:69ghzc538EQSVon2Gm3wrr', 'artist_uri': 'spotify:artist:1uNFoZAHBGtllmzznpCI3s', 'track_name': 'One Less Lonely Girl', 'album_uri': 'spotify:album:1rG5TDs3jYh6OU753I54CI', 'duration_ms': 229106, 'album_name': 'My World'}, {'pos': 37, 'artist_name': 'M.I.A.', 'track_uri': 'spotify:track:1kusepF3AacIEtUTYrw4GV', 'artist_uri': 'spotify:artist:0QJIPDAEDILuo8AIq3pMuU', 'track_name': 'Paper Planes', 'album_uri': 'spotify:album:1Lymt1abGCr3J06bbnmWca', 'duration_ms': 203760, 'album_name': 'Kala'}, {'pos': 38, 'artist_name': 'The Killers', 'track_uri': 'spotify:track:7oK9VyNzrYvRFo7nQEYkWN', 'artist_uri': 'spotify:artist:0C0XlULifJtAgn6ZNCW2eu', 'track_name': 'Mr. Brightside', 'album_uri': 'spotify:album:4undIeGmofnAYKhnDclN1w', 'duration_ms': 222586, 'album_name': 'Hot Fuss'}, {'pos': 39, 'artist_name': 'blink-182', 'track_uri': 'spotify:track:12qZHAeOyTf93YAWvGDTat', 'artist_uri': 'spotify:artist:6FBDaR13swtiWwGhX1WQsP', 'track_name': 'All The Small Things', 'album_uri': 'spotify:album:1fF8kYX49s5Ufv4XEY5sjW', 'duration_ms': 168000, 'album_name': 'Enema Of The State'}, {'pos': 40, 'artist_name': 'The Pussycat Dolls', 'track_uri': 'spotify:track:2jFlMILIQzs7lSFudG9lbo', 'artist_uri': 'spotify:artist:6wPhSqRtPu1UhRCDX5yaDJ', 'track_name': 'Beep', 'album_uri': 'spotify:album:0ylxpXE00fVxh6d60tevT8', 'duration_ms': 229360, 'album_name': 'PCD'}, {'pos': 41, 'artist_name': 'Justin Bieber', 'track_uri': 'spotify:track:4I2GqMe7L2ccMpUbnDzYLH', 'artist_uri': 'spotify:artist:1uNFoZAHBGtllmzznpCI3s', 'track_name': 'Somebody To Love', 'album_uri': 'spotify:album:6gdLfnf2vdNlMTyhJHaDLs', 'duration_ms': 220920, 'album_name': 'My Worlds'}, {'pos': 42, 'artist_name': 'The All-American Rejects', 'track_uri': 'spotify:track:5lDriBxJd22IhOH9zTcFrV', 'artist_uri': 'spotify:artist:3vAaWhdBR38Q02ohXqaNHT', 'track_name': 'Dirty Little Secret', 'album_uri': 'spotify:album:3PWEGZ6CYvXRnr0JCECsDe', 'duration_ms': 193653, 'album_name': 'Move Along'}, {'pos': 43, 'artist_name': 'Justin Bieber', 'track_uri': 'spotify:track:2eJ8ij1T3cNUKiGdcUvKhy', 'artist_uri': 'spotify:artist:1uNFoZAHBGtllmzznpCI3s', 'track_name': 'Baby', 'album_uri': 'spotify:album:6gdLfnf2vdNlMTyhJHaDLs', 'duration_ms': 213973, 'album_name': 'My Worlds'}, {'pos': 44, 'artist_name': 'Vanessa Carlton', 'track_uri': 'spotify:track:5y69gQtK33qxb8a24ACkCy', 'artist_uri': 'spotify:artist:5ILrArfIV0tMURcHJN8Q07', 'track_name': 'A Thousand Miles', 'album_uri': 'spotify:album:7D6BFTArx2ajtkKRVXIKO2', 'duration_ms': 237493, 'album_name': 'Be Not Nobody'}, {'pos': 45, 'artist_name': 'Cris Cab', 'track_uri': 'spotify:track:1X5WGCrUMuwRFuYU1eAo2I', 'artist_uri': 'spotify:artist:7vWBZm3sQ8yQvfV4nXxHXK', 'track_name': 'Livin on Sunday', 'album_uri': 'spotify:album:2kNznk4KDkYXifzOAUDoXN', 'duration_ms': 201230, 'album_name': 'Red Road'}, {'pos': 46, 'artist_name': 'Miley Cyrus', 'track_uri': 'spotify:track:3utIAb67sOu0QHxBE88P1M', 'artist_uri': 'spotify:artist:5YGY8feqx7naU7z4HrwZM6', 'track_name': 'See You Again', 'album_uri': 'spotify:album:6SkirMQoL4QhnXOM5MH5El', 'duration_ms': 190453, 'album_name': 'See You Again'}, {'pos': 47, 'artist_name': 'Jesse McCartney', 'track_uri': 'spotify:track:3jkdQNkDTxxXtjSO4l0o1H', 'artist_uri': 'spotify:artist:2Hjj68yyUPiC0HKEOigcEp', 'track_name': 'How Do You Sleep? - Featuring Ludacris', 'album_uri': 'spotify:album:2tDCfKFy2YW9N0IwNSRdOJ', 'duration_ms': 208333, 'album_name': 'Departure - Recharged'}, {'pos': 48, 'artist_name': 'Demi Lovato', 'track_uri': 'spotify:track:5c1sfI6wIQEsSUw0xrkFdl', 'artist_uri': 'spotify:artist:6S2OmqARrzebs0tKUEyXyp', 'track_name': 'This Is Me', 'album_uri': 'spotify:album:6vykWEBzBfEKYJxEFR1AQl', 'duration_ms': 189186, 'album_name': 'Camp Rock Original Soundtrack'}, {'pos': 49, 'artist_name': 'Avril Lavigne', 'track_uri': 'spotify:track:6sqNctd7MlJoKDOxPVCAvU', 'artist_uri': 'spotify:artist:0p4nmQO2msCgU4IF37Wi3j', 'track_name': 'My Happy Ending', 'album_uri': 'spotify:album:7851Vsjv3apS52sXUik6iF', 'duration_ms': 242413, 'album_name': 'Under My Skin'}, {'pos': 50, 'artist_name': 'We The Kings', 'track_uri': 'spotify:track:1b7vg5T9YKR3NNqXfBYRF7', 'artist_uri': 'spotify:artist:3ao3jf5d70Tf4fPh2bnXVl', 'track_name': 'Check Yes Juliet', 'album_uri': 'spotify:album:2F1hfUOuMnOxtSfrktL8VX', 'duration_ms': 220133, 'album_name': 'We The Kings'}, {'pos': 51, 'artist_name': 'Boys Like Girls', 'track_uri': 'spotify:track:6GIrIt2M39wEGwjCQjGChX', 'artist_uri': 'spotify:artist:0vWCyXMrrvMlCcepuOJaGI', 'track_name': 'The Great Escape', 'album_uri': 'spotify:album:4WqgusSAgXkrjbXzqdBY68', 'duration_ms': 206520, 'album_name': 'Boys Like Girls'}]\n"
     ]
    }
   ],
   "source": [
    "# print(playlists[:,1])\n",
    "print(train_data['tracks'][0])"
   ]
  },
  {
   "cell_type": "code",
   "execution_count": null,
   "metadata": {},
   "outputs": [],
   "source": []
  }
 ],
 "metadata": {
  "kernelspec": {
   "display_name": "Python 3",
   "language": "python",
   "name": "python3"
  },
  "language_info": {
   "codemirror_mode": {
    "name": "ipython",
    "version": 3
   },
   "file_extension": ".py",
   "mimetype": "text/x-python",
   "name": "python",
   "nbconvert_exporter": "python",
   "pygments_lexer": "ipython3",
   "version": "3.6.5"
  }
 },
 "nbformat": 4,
 "nbformat_minor": 2
}
